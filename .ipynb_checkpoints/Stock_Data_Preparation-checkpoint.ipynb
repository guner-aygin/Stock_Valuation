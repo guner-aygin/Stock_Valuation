{
 "cells": [
  {
   "cell_type": "markdown",
   "id": "fa3c58cb-c439-4aeb-81ae-aefcbc7d451d",
   "metadata": {},
   "source": [
    "# Stock Data Collection & Preparation\n",
    "\n",
    "This notebook finds data on all the US listed companies, and sorts through a list of stocks which can be found on **alpha vantage**. The raw list is cleaned to remove ETFs, remove companies which cannot be found on Yahoo Finance, and save the final data as a csv file to be read from in other documents."
   ]
  },
  {
   "cell_type": "code",
   "execution_count": 1,
   "id": "6f26af9f-5c99-4353-b0fe-6d3dc01b847f",
   "metadata": {},
   "outputs": [],
   "source": [
    "import pandas as pd\n",
    "import yfinance as yf\n",
    "import requests\n",
    "from IPython.display import display, clear_output\n",
    "import time"
   ]
  },
  {
   "cell_type": "code",
   "execution_count": 2,
   "id": "261ee60e-7e81-4727-b46b-efe4c7e728a4",
   "metadata": {},
   "outputs": [],
   "source": [
    "# Defining some preliminary functions\n",
    "\n",
    "def save_dataframe_to_csv(df, filename):\n",
    "    '''Function to save stock data to csv (to prevent exceeding rate limit)'''\n",
    "    try:\n",
    "        df.to_csv(filename, index=False)  # Set index=False if you do not want to save the index as a separate column\n",
    "        print(f\"DataFrame is successfully saved to {filename}\")\n",
    "    except Exception as e:\n",
    "        print(f\"Error saving DataFrame to CSV: {e}\")\n",
    "\n",
    "\n",
    "def get_stock_sector(symbol):\n",
    "    '''Fetches sector information for a given stock symbol using yfinance.'''\n",
    "    try:\n",
    "        stock = yf.Ticker(symbol)\n",
    "        info = stock.info\n",
    "        sector = info.get('sector', 'Sector information not available')\n",
    "        if sector != 'Sector information not available':\n",
    "            return sector, True  # Return True if sector was fetched successfully\n",
    "        else:\n",
    "            return sector, False\n",
    "    except Exception as e:\n",
    "        print(f\"Failed to fetch sector for {symbol}: {e}\")\n",
    "        return 'Sector information not available', False"
   ]
  },
  {
   "cell_type": "code",
   "execution_count": 4,
   "id": "523c80f5-e820-4160-8a7b-1bcef5bd3a75",
   "metadata": {},
   "outputs": [
    {
     "ename": "KeyError",
     "evalue": "'exchange'",
     "output_type": "error",
     "traceback": [
      "\u001b[0;31m---------------------------------------------------------------------------\u001b[0m",
      "\u001b[0;31mKeyError\u001b[0m                                  Traceback (most recent call last)",
      "File \u001b[0;32m~/stock_env/lib/python3.9/site-packages/pandas/core/indexes/base.py:3653\u001b[0m, in \u001b[0;36mIndex.get_loc\u001b[0;34m(self, key)\u001b[0m\n\u001b[1;32m   3652\u001b[0m \u001b[38;5;28;01mtry\u001b[39;00m:\n\u001b[0;32m-> 3653\u001b[0m     \u001b[38;5;28;01mreturn\u001b[39;00m \u001b[38;5;28;43mself\u001b[39;49m\u001b[38;5;241;43m.\u001b[39;49m\u001b[43m_engine\u001b[49m\u001b[38;5;241;43m.\u001b[39;49m\u001b[43mget_loc\u001b[49m\u001b[43m(\u001b[49m\u001b[43mcasted_key\u001b[49m\u001b[43m)\u001b[49m\n\u001b[1;32m   3654\u001b[0m \u001b[38;5;28;01mexcept\u001b[39;00m \u001b[38;5;167;01mKeyError\u001b[39;00m \u001b[38;5;28;01mas\u001b[39;00m err:\n",
      "File \u001b[0;32m~/stock_env/lib/python3.9/site-packages/pandas/_libs/index.pyx:147\u001b[0m, in \u001b[0;36mpandas._libs.index.IndexEngine.get_loc\u001b[0;34m()\u001b[0m\n",
      "File \u001b[0;32m~/stock_env/lib/python3.9/site-packages/pandas/_libs/index.pyx:176\u001b[0m, in \u001b[0;36mpandas._libs.index.IndexEngine.get_loc\u001b[0;34m()\u001b[0m\n",
      "File \u001b[0;32mpandas/_libs/hashtable_class_helper.pxi:7080\u001b[0m, in \u001b[0;36mpandas._libs.hashtable.PyObjectHashTable.get_item\u001b[0;34m()\u001b[0m\n",
      "File \u001b[0;32mpandas/_libs/hashtable_class_helper.pxi:7088\u001b[0m, in \u001b[0;36mpandas._libs.hashtable.PyObjectHashTable.get_item\u001b[0;34m()\u001b[0m\n",
      "\u001b[0;31mKeyError\u001b[0m: 'exchange'",
      "\nThe above exception was the direct cause of the following exception:\n",
      "\u001b[0;31mKeyError\u001b[0m                                  Traceback (most recent call last)",
      "Cell \u001b[0;32mIn[4], line 17\u001b[0m\n\u001b[1;32m     14\u001b[0m     df \u001b[38;5;241m=\u001b[39m pd\u001b[38;5;241m.\u001b[39mread_csv(data)\n\u001b[1;32m     16\u001b[0m     \u001b[38;5;66;03m# Filter for active US stocks\u001b[39;00m\n\u001b[0;32m---> 17\u001b[0m     us_stocks_df \u001b[38;5;241m=\u001b[39m df[\u001b[43mdf\u001b[49m\u001b[43m[\u001b[49m\u001b[38;5;124;43m'\u001b[39;49m\u001b[38;5;124;43mexchange\u001b[39;49m\u001b[38;5;124;43m'\u001b[39;49m\u001b[43m]\u001b[49m\u001b[38;5;241m.\u001b[39misin([\u001b[38;5;124m'\u001b[39m\u001b[38;5;124mNYSE\u001b[39m\u001b[38;5;124m'\u001b[39m, \u001b[38;5;124m'\u001b[39m\u001b[38;5;124mNASDAQ\u001b[39m\u001b[38;5;124m'\u001b[39m, \u001b[38;5;124m'\u001b[39m\u001b[38;5;124mAMEX\u001b[39m\u001b[38;5;124m'\u001b[39m]) \u001b[38;5;241m&\u001b[39m (df[\u001b[38;5;124m'\u001b[39m\u001b[38;5;124mstatus\u001b[39m\u001b[38;5;124m'\u001b[39m] \u001b[38;5;241m==\u001b[39m \u001b[38;5;124m'\u001b[39m\u001b[38;5;124mActive\u001b[39m\u001b[38;5;124m'\u001b[39m)]\n\u001b[1;32m     18\u001b[0m     save_dataframe_to_csv(us_stocks_df, \u001b[38;5;124m'\u001b[39m\u001b[38;5;124mus_equities.csv\u001b[39m\u001b[38;5;124m'\u001b[39m)\n\u001b[1;32m     19\u001b[0m \u001b[38;5;28;01melse\u001b[39;00m:\n",
      "File \u001b[0;32m~/stock_env/lib/python3.9/site-packages/pandas/core/frame.py:3761\u001b[0m, in \u001b[0;36mDataFrame.__getitem__\u001b[0;34m(self, key)\u001b[0m\n\u001b[1;32m   3759\u001b[0m \u001b[38;5;28;01mif\u001b[39;00m \u001b[38;5;28mself\u001b[39m\u001b[38;5;241m.\u001b[39mcolumns\u001b[38;5;241m.\u001b[39mnlevels \u001b[38;5;241m>\u001b[39m \u001b[38;5;241m1\u001b[39m:\n\u001b[1;32m   3760\u001b[0m     \u001b[38;5;28;01mreturn\u001b[39;00m \u001b[38;5;28mself\u001b[39m\u001b[38;5;241m.\u001b[39m_getitem_multilevel(key)\n\u001b[0;32m-> 3761\u001b[0m indexer \u001b[38;5;241m=\u001b[39m \u001b[38;5;28;43mself\u001b[39;49m\u001b[38;5;241;43m.\u001b[39;49m\u001b[43mcolumns\u001b[49m\u001b[38;5;241;43m.\u001b[39;49m\u001b[43mget_loc\u001b[49m\u001b[43m(\u001b[49m\u001b[43mkey\u001b[49m\u001b[43m)\u001b[49m\n\u001b[1;32m   3762\u001b[0m \u001b[38;5;28;01mif\u001b[39;00m is_integer(indexer):\n\u001b[1;32m   3763\u001b[0m     indexer \u001b[38;5;241m=\u001b[39m [indexer]\n",
      "File \u001b[0;32m~/stock_env/lib/python3.9/site-packages/pandas/core/indexes/base.py:3655\u001b[0m, in \u001b[0;36mIndex.get_loc\u001b[0;34m(self, key)\u001b[0m\n\u001b[1;32m   3653\u001b[0m     \u001b[38;5;28;01mreturn\u001b[39;00m \u001b[38;5;28mself\u001b[39m\u001b[38;5;241m.\u001b[39m_engine\u001b[38;5;241m.\u001b[39mget_loc(casted_key)\n\u001b[1;32m   3654\u001b[0m \u001b[38;5;28;01mexcept\u001b[39;00m \u001b[38;5;167;01mKeyError\u001b[39;00m \u001b[38;5;28;01mas\u001b[39;00m err:\n\u001b[0;32m-> 3655\u001b[0m     \u001b[38;5;28;01mraise\u001b[39;00m \u001b[38;5;167;01mKeyError\u001b[39;00m(key) \u001b[38;5;28;01mfrom\u001b[39;00m \u001b[38;5;21;01merr\u001b[39;00m\n\u001b[1;32m   3656\u001b[0m \u001b[38;5;28;01mexcept\u001b[39;00m \u001b[38;5;167;01mTypeError\u001b[39;00m:\n\u001b[1;32m   3657\u001b[0m     \u001b[38;5;66;03m# If we have a listlike key, _check_indexing_error will raise\u001b[39;00m\n\u001b[1;32m   3658\u001b[0m     \u001b[38;5;66;03m#  InvalidIndexError. Otherwise we fall through and re-raise\u001b[39;00m\n\u001b[1;32m   3659\u001b[0m     \u001b[38;5;66;03m#  the TypeError.\u001b[39;00m\n\u001b[1;32m   3660\u001b[0m     \u001b[38;5;28mself\u001b[39m\u001b[38;5;241m.\u001b[39m_check_indexing_error(key)\n",
      "\u001b[0;31mKeyError\u001b[0m: 'exchange'"
     ]
    }
   ],
   "source": [
    "# Accessing and saving US Stock data \n",
    "\n",
    "API_KEY = 'IU8VJCO75R85LMTH'\n",
    "URL = \"https://www.alphavantage.co/query?function=LISTING_STATUS&apikey=\" + API_KEY\n",
    "\n",
    "# Make the API call\n",
    "response = requests.get(URL)\n",
    "\n",
    "# Check if the request was successful\n",
    "if response.status_code == 200:\n",
    "    # Assuming the response is a CSV, convert it into a DataFrame\n",
    "    from io import StringIO\n",
    "    data = StringIO(response.text)\n",
    "    df = pd.read_csv(data)\n",
    "    \n",
    "    # Filter for active US stocks\n",
    "    us_stocks_df = df[df['exchange'].isin(['NYSE', 'NASDAQ', 'AMEX']) & (df['status'] == 'Active')]\n",
    "    save_dataframe_to_csv(us_stocks_df, 'us_equities.csv')\n",
    "else:\n",
    "    print(\"Failed to fetch data: \", response.status_code)\n",
    "\n",
    "us_stocks_df\n",
    "\n",
    "# Assuming the dataframe of US stocks is already saved as a csv\n",
    "df = pd.read_csv('us_equities.csv')\n",
    "df"
   ]
  },
  {
   "cell_type": "code",
   "execution_count": null,
   "id": "7d57ae35-62e0-4409-8eab-ba98c22d0abe",
   "metadata": {},
   "outputs": [],
   "source": [
    "# Using only Stocks (not ETFs)\n",
    "\n",
    "us_stocks_df = df[df['assetType'] == 'Stock'].reset_index(drop=True)"
   ]
  },
  {
   "cell_type": "code",
   "execution_count": null,
   "id": "9796e278-0b4c-4199-b385-12e3c1e3a35f",
   "metadata": {},
   "outputs": [],
   "source": [
    "# Cleaning data by removing NaNs, dropping duplicates and anything other than Class A\n",
    "\n",
    "df_cleaned = us_stocks_df.dropna(subset=['name'])\n",
    "df_unique = df_cleaned.drop_duplicates(subset='name', keep='first')\n",
    "df_filtered = df_unique[\n",
    "    (df_unique['name'].str.endswith(' - Class A')) |  # Keep if it ends with ' - Class A'\n",
    "    (~df_unique['name'].str.contains(' - '))           # Keep if there's no '-' indicating a subclass or unit\n",
    "].reset_index(drop=True)\n",
    "\n",
    "df_filtered"
   ]
  },
  {
   "cell_type": "code",
   "execution_count": null,
   "id": "f064f266-bb4f-4524-8159-9d89008f897d",
   "metadata": {},
   "outputs": [],
   "source": [
    "''' Adding a 'sector' column to the data '''\n",
    "# Initialize the column with default values (or empty strings if preferred)\n",
    "total = len(df_filtered['symbol'])\n",
    "count = 0\n",
    "fail_count = 0\n",
    "start_time = time.time()\n",
    "\n",
    "for index, row in df_filtered.iterrows():\n",
    "    sector, success = get_stock_sector(row['symbol'])\n",
    "    df_filtered.at[index, 'sector'] = sector  # Update the 'sector' column directly\n",
    "    count += 1\n",
    "\n",
    "    if not success:\n",
    "        fail_count += 1\n",
    "\n",
    "    elapsed_time = time.time() - start_time\n",
    "    remaining_time = ((elapsed_time / count) * (total - count))\n",
    "    remaining_minutes = int(remaining_time // 60)\n",
    "    remaining_seconds = int(remaining_time % 60)\n",
    "\n",
    "    clear_output(wait=True)\n",
    "    display(f\"Processed {count}/{total} tickers. ({(count/total) * 100:.2f}%) - \"\n",
    "            f\"Estimated Time Remaining: {remaining_minutes} minutes {remaining_seconds} seconds. \"\n",
    "            f\"Failures: {fail_count}\")\n",
    "\n",
    "print(\"Processing complete. Total Failures:\", fail_count)"
   ]
  },
  {
   "cell_type": "code",
   "execution_count": null,
   "id": "c8781fab-5c61-42f3-90b3-d04e08f9f22f",
   "metadata": {},
   "outputs": [],
   "source": [
    "# Removing stocks with no sector information (as there probably is little other information on them)\n",
    "df_filtered = df_filtered[df_filtered['sector'] != 'Sector information not available']\n",
    "df_filtered\n",
    "\n",
    "save_dataframe_to_csv(df_filtered, 'us_stock_data.csv')"
   ]
  }
 ],
 "metadata": {
  "kernelspec": {
   "display_name": "Python 3 (ipykernel)",
   "language": "python",
   "name": "python3"
  },
  "language_info": {
   "codemirror_mode": {
    "name": "ipython",
    "version": 3
   },
   "file_extension": ".py",
   "mimetype": "text/x-python",
   "name": "python",
   "nbconvert_exporter": "python",
   "pygments_lexer": "ipython3",
   "version": "3.9.13"
  }
 },
 "nbformat": 4,
 "nbformat_minor": 5
}
